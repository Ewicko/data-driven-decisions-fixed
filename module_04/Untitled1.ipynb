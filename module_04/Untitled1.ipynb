{
 "cells": [
  {
   "cell_type": "markdown",
   "id": "0ebe87f0",
   "metadata": {},
   "source": [
    "## Notes from Prof Cooper Meeting 6/26\n",
    "\n",
    "##### Case Study\n",
    "\n",
    "Pores usually follow log\n",
    "\n",
    "\n",
    "paragraph on number of pores\n",
    "how I got that number\n",
    "\n",
    "this is what I think of as big pores\n",
    "compare large pore low porosity to small pore high porosity\n",
    "comare the expected life (how predicable the life is/isnt') for the tho pore combinations above\n",
    "\n",
    "\n",
    "##### In general\n",
    "\n",
    "everything that can be specified, specify it: difference, variability, etc\n"
   ]
  },
  {
   "cell_type": "code",
   "execution_count": null,
   "id": "a0bf73a5",
   "metadata": {},
   "outputs": [],
   "source": []
  }
 ],
 "metadata": {
  "kernelspec": {
   "display_name": "Python 3 (ipykernel)",
   "language": "python",
   "name": "python3"
  },
  "language_info": {
   "codemirror_mode": {
    "name": "ipython",
    "version": 3
   },
   "file_extension": ".py",
   "mimetype": "text/x-python",
   "name": "python",
   "nbconvert_exporter": "python",
   "pygments_lexer": "ipython3",
   "version": "3.9.6"
  }
 },
 "nbformat": 4,
 "nbformat_minor": 5
}
