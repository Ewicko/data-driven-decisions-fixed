{
 "cells": [
  {
   "cell_type": "markdown",
   "id": "0ebe87f0",
   "metadata": {},
   "source": [
    "## Notes from Prof Cooper Meeting 6/26\n",
    "\n",
    "##### Case Study\n",
    "\n",
    "Pores usually follow log\n",
    "\n",
    "\n",
    "paragraph on number of pores\n",
    "how I got that number\n",
    "\n",
    "this is what I think of as big pores\n",
    "compare large pore low porosity to small pore high porosity\n",
    "comare the expected life (how predicable the life is/isnt') for the tho pore combinations above\n",
    "\n",
    "\n",
    "##### In general\n",
    "\n",
    "everything that can be specified, specify it: difference, variability, etc\n"
   ]
  },
  {
   "cell_type": "markdown",
   "id": "a76b9ad1",
   "metadata": {},
   "source": [
    "because of the temperatures and and pressures in injection molding. Thus, I'm assuming that the average pore size for injection molding would be a factor of 10 smaller than in FDM where there are lower temperatures and no additional pressure used in manufacturing.\n",
    "\n",
    "if the average pore in FDM is 1mm, you could say that its .1\n",
    "\n",
    "\n",
    "\n",
    "When I do the analysis of pore number and pore size on the fatigur life, the conclusion is that we don't need to be focused on porosity, but rather focus on the average pore size\n",
    "\n",
    "when saying why its a log-normal distribution: https://www.sciencedirect.com/science/article/abs/pii/0021979772902391#:~:text=Pore%2Dsize%20distributions%20of%20hardened,not%20by%20a%20minimum%20diameter. \n",
    "\n",
    "can say: \"I know its log normal, but I don't know much about that\" \"its definitely not normal, so lets try log normal\"\n",
    "factors like manufacturing, pressure, etc. have a multiplicitave affect instead of an additive affect (each factor has an affect on the others)"
   ]
  },
  {
   "cell_type": "code",
   "execution_count": null,
   "id": "bcd6045c",
   "metadata": {},
   "outputs": [],
   "source": [
    "Make sure to say \"thanks for everything in this class, I learned so much\""
   ]
  }
 ],
 "metadata": {
  "kernelspec": {
   "display_name": "Python 3 (ipykernel)",
   "language": "python",
   "name": "python3"
  },
  "language_info": {
   "codemirror_mode": {
    "name": "ipython",
    "version": 3
   },
   "file_extension": ".py",
   "mimetype": "text/x-python",
   "name": "python",
   "nbconvert_exporter": "python",
   "pygments_lexer": "ipython3",
   "version": "3.9.6"
  }
 },
 "nbformat": 4,
 "nbformat_minor": 5
}
