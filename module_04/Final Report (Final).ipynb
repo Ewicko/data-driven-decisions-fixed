{
 "cells": [
  {
   "cell_type": "code",
   "execution_count": 5,
   "id": "68134b50",
   "metadata": {},
   "outputs": [
    {
     "name": "stdout",
     "output_type": "stream",
     "text": [
      "/home/jovyan/work/data-driven-decisions/data-driven-decisions/module_04\n"
     ]
    }
   ],
   "source": [
    "import os\n",
    "import matplotlib.pyplot as plt\n",
    "print(os.getcwd())  #I'm just gettig how to access the file here"
   ]
  },
  {
   "cell_type": "code",
   "execution_count": 6,
   "id": "3924378d",
   "metadata": {},
   "outputs": [
    {
     "name": "stdout",
     "output_type": "stream",
     "text": [
      "    material             method  youngs_modulus_MPa  yield_strength_MPa  \\\n",
      "0      Steel            Casting              210000                 550   \n",
      "1   Aluminum        3D Printing               70000                 250   \n",
      "2   Titanium          Machining              116000                 880   \n",
      "3    Polymer  Injection Molding                2500                  50   \n",
      "4  Composite        3D Printing               70000                 600   \n",
      "\n",
      "  porosity_range  \n",
      "0      0.02,0.05  \n",
      "1      0.05,0.15  \n",
      "2      0.01,0.03  \n",
      "3      0.02,0.04  \n",
      "4       0.03,0.1  \n",
      "{'youngs_modulus_MPa': 210000, 'yield_strength_MPa': 550, 'porosity_range': [0.02, 0.05]}\n"
     ]
    }
   ],
   "source": [
    "##LOAD MATERIALS\n",
    "\n",
    "import pandas as pd\n",
    "\n",
    "\n",
    "def load_material_properties(filename='./materials.csv'):\n",
    "    try:\n",
    "        return pd.read_csv(filename)\n",
    "    except FileNotFoundError:\n",
    "        print(f\"Error: The file {filename} does not exist.\")\n",
    "    except pd.errors.EmptyDataError:\n",
    "        print(f\"Error: The file {filename} is empty or not formatted correctly.\")\n",
    "    except Exception as e:\n",
    "        print(f\"An unexpected error occurred: {e}\")\n",
    "\n",
    "def get_material_properties(materials_df, material, method):\n",
    "    row = materials_df[(materials_df['material'] == material) & (materials_df['method'] == method)]\n",
    "    if not row.empty:\n",
    "        properties = {\n",
    "            'youngs_modulus_MPa': row['youngs_modulus_MPa'].values[0],\n",
    "            'yield_strength_MPa': row['yield_strength_MPa'].values[0],\n",
    "            'porosity_range': [float(x) for x in row['porosity_range'].values[0].split(',')]\n",
    "        }\n",
    "        return properties\n",
    "    else:\n",
    "        return None\n",
    "\n",
    "# Example usage:\n",
    "materials_df = load_material_properties()\n",
    "print(materials_df)\n",
    "material_properties = get_material_properties(materials_df, 'Steel', 'Casting')\n",
    "print(material_properties)\n"
   ]
  },
  {
   "cell_type": "code",
   "execution_count": 7,
   "id": "860e45b4-680b-407e-a8ad-b993f6d48ed4",
   "metadata": {},
   "outputs": [],
   "source": [
    "##SIMULATION\n",
    "\n",
    "import numpy as np\n",
    "from numpy.random import default_rng\n",
    "rng = default_rng(42)\n",
    "def run_monte_carlo_simulation(N_pores, \n",
    "                               volume_material, \n",
    "                               material_properties, \n",
    "                               mean_pore_size):\n",
    "    \"\"\"\n",
    "    Simulate the effects of porosity on a material property.\n",
    "\n",
    "    Args:\n",
    "    material (dict): A dictionary containing the material properties and porosity range.\n",
    "    num_simulations (int): The number of simulations to run.\n",
    "\n",
    "    Returns:\n",
    "    np.array: An array of simulated values.\n",
    "    \"\"\"\n",
    "\n",
    "    \n",
    "    V = volume_material   #volume of material\n",
    "    ws = rng.lognormal(mean = mean_pore_size, sigma = 0.1, size = N_pores)  #mean a determines the average size of the pore\n",
    "    #plt.hist(ws)\n",
    "    #print(np.mean(ws), np.std(ws))\n",
    "    #print(np.sum(4/3*np.pi*ws**3)) #volume of all the pores\n",
    "    porosity = np.sum(4/3*np.pi*ws**3)/V\n",
    "    #print('porosity = ',np.sum(4/3*np.pi*ws**3)/V)  #porosity given by the ratio of pore volume to starting volume\n",
    "    \n",
    "    average_pore_size = np.mean(ws)\n",
    "    std_pore_size = np.std(ws)\n",
    "    \n",
    "    return porosity, ws"
   ]
  },
  {
   "cell_type": "code",
   "execution_count": 8,
   "id": "19675fd4-0430-473d-8431-6b2d689cb3d7",
   "metadata": {},
   "outputs": [
    {
     "data": {
      "text/plain": [
       "(array([  3.,  31., 114., 209., 289., 208.,  88.,  47.,   8.,   3.]),\n",
       " array([0.69430684, 0.76229803, 0.83028922, 0.89828041, 0.96627159,\n",
       "        1.03426278, 1.10225397, 1.17024516, 1.23823635, 1.30622753,\n",
       "        1.37421872]),\n",
       " <BarContainer object of 10 artists>)"
      ]
     },
     "execution_count": 8,
     "metadata": {},
     "output_type": "execute_result"
    },
    {
     "data": {
      "image/png": "[encoded data removed]",
      "text/plain": [
       "<Figure size 432x288 with 1 Axes>"
      ]
     },
     "metadata": {
      "needs_background": "light"
     },
     "output_type": "display_data"
    }
   ],
   "source": [
    "plt.hist(\n",
    "    #np.log(\n",
    "    rng.lognormal(np.log(1), \n",
    "                  0.1, \n",
    "                  1000)\n",
    "    #)\n",
    ")"
   ]
  },
  {
   "cell_type": "code",
   "execution_count": 9,
   "id": "ac26fbdf-9935-42bd-a8b6-215dc2f2210a",
   "metadata": {},
   "outputs": [
    {
     "name": "stdout",
     "output_type": "stream",
     "text": [
      "0.00044186824370725565\n"
     ]
    },
    {
     "data": {
      "text/plain": [
       "(array([ 4.,  9., 18., 24., 20., 12., 10.,  1.,  0.,  2.]),\n",
       " array([0.80410855, 0.8561326 , 0.90815666, 0.96018071, 1.01220477,\n",
       "        1.06422882, 1.11625287, 1.16827693, 1.22030098, 1.27232504,\n",
       "        1.32434909]),\n",
       " <BarContainer object of 10 artists>)"
      ]
     },
     "execution_count": 9,
     "metadata": {},
     "output_type": "execute_result"
    },
    {
     "data": {
      "image/png": "[encoded data removed]",
      "text/plain": [
       "<Figure size 432x288 with 1 Axes>"
      ]
     },
     "metadata": {
      "needs_background": "light"
     },
     "output_type": "display_data"
    }
   ],
   "source": [
    "porosity, ws = run_monte_carlo_simulation(100, 1000000, material_properties, np.log(1))\n",
    "print(porosity)\n",
    "plt.hist(ws)"
   ]
  },
  {
   "cell_type": "code",
   "execution_count": 10,
   "id": "9182df7b-4717-4b64-a409-e54ac8c904bd",
   "metadata": {},
   "outputs": [],
   "source": [
    "def calculate_reduced_life(porosity_factor, ws, expected_life):\n",
    "    \"\"\"\n",
    "    Calculate reduced fatigue life using Goodman, Gerber, and Paris equations.\n",
    "\n",
    "    Args:\n",
    "    porosity_factor (float): The porosity factor (0 to 1 scale, where 1 is highly porous).\n",
    "    expected_life (float): The baseline expected fatigue life without porosity.\n",
    "\n",
    "    Returns:\n",
    "    dict: A dictionary containing reduced life estimations according to different models.\n",
    "    \"\"\"\n",
    "\n",
    "    sigma_ut = 400  # Ultimate tensile strength in MPa\n",
    "    sigma_e = 200  # Endurance limit in MPa\n",
    "    C = 1e-12  # Paris' law constant C\n",
    "    m = 3.1  # Paris' law constant m\n",
    "    sigma = 100  # Assumed nominal stress in MPa, example value\n",
    "    Y = 1.12  # Geometric factor for an internal crack, approx. value\n",
    "\n",
    "\n",
    "    # Adjust properties based on porosity\n",
    "    adjusted_sigma_e = sigma_e * (1 - porosity_factor)\n",
    "    adjusted_sigma_ut = sigma_ut * (1 - porosity_factor)\n",
    "\n",
    "    # Goodman's reduction\n",
    "    goodman_life = expected_life * (1 - porosity_factor)\n",
    "\n",
    "    # Gerber's reduction\n",
    "    gerber_life = expected_life * (1 - porosity_factor**2)\n",
    "\n",
    "    # Paris' Law (simplistic approach for demonstration)\n",
    "    #a = average_pore_size / 2  # Convert diameter to radius for crack length approximation\n",
    "    Delta_K = np.max(Y * sigma * np.sqrt(np.pi * ws))  # Calculate Delta K using the formula\n",
    "\n",
    "    # Calculate Paris' Law factor\n",
    "    paris_factor = C * (Delta_K**m)\n",
    "    \n",
    "    da = 0.0001  # Small increment in crack length\n",
    "    N = 0  # Initialize cycle count\n",
    "    a = np.max(ws)  # Initial crack length\n",
    "    a_c = 3.5\n",
    "\n",
    "    while a < a_c:\n",
    "        #Delta_K = Y * sigma * np.sqrt(np.pi * a)\n",
    "        da = C * (Delta_K**m)*1\n",
    "        a += da  # Increment crack length\n",
    "        Delta_K = np.max(Y * sigma * np.sqrt(np.pi * (a)))\n",
    "        N += 1  # Increment cycle count\n",
    "\n",
    "    \n",
    "    return N"
   ]
  },
  {
   "cell_type": "code",
   "execution_count": 11,
   "id": "3697fa50-7597-4444-b8b7-6ab0ecbe1c27",
   "metadata": {},
   "outputs": [
    {
     "data": {
      "text/plain": [
       "array([999.99917079])"
      ]
     },
     "execution_count": 11,
     "metadata": {},
     "output_type": "execute_result"
    }
   ],
   "source": [
    "from scipy.optimize import fsolve\n",
    "\n",
    "fsolve(lambda V: run_monte_carlo_simulation(100, V, material_properties, np.log(1))[0] - 0.01, 1000)"
   ]
  },
  {
   "cell_type": "code",
   "execution_count": 12,
   "id": "e0abfc21-fc4a-4492-85b5-9250181b9f46",
   "metadata": {},
   "outputs": [
    {
     "data": {
      "text/plain": [
       "0.04618731705708577"
      ]
     },
     "execution_count": 12,
     "metadata": {},
     "output_type": "execute_result"
    }
   ],
   "source": [
    "run_monte_carlo_simulation(100, 8000, material_properties, np.log(1))[0] - 0.01"
   ]
  },
  {
   "cell_type": "code",
   "execution_count": 13,
   "id": "052b74ad-b518-4980-a940-777069b19b4e",
   "metadata": {},
   "outputs": [
    {
     "data": {
      "text/plain": [
       "(0.000428781158614649,\n",
       " array([0.95637332, 1.10298384, 1.02851634, 0.93262161, 0.91704935,\n",
       "        0.84810602, 1.02950007, 0.96516254, 0.78881808, 0.94783818,\n",
       "        0.91383669, 1.17066008, 0.84343043, 0.86577079, 1.11739151,\n",
       "        1.14531111, 0.92820906, 0.93874765, 1.06356188, 0.79238335,\n",
       "        0.83017449, 0.97231705, 1.16764518, 0.95736266, 1.01014479,\n",
       "        1.12005627, 1.23452771, 0.94394739, 0.99831774, 1.19986077,\n",
       "        0.85879939, 1.10822331, 0.90318168, 1.01029992, 0.97603005,\n",
       "        0.90864467, 0.90636771, 1.02802701, 1.10467805, 0.98711017,\n",
       "        1.00703595, 1.05878011, 0.90740911, 1.0767737 , 1.08538451,\n",
       "        1.29740048, 0.96308807, 0.95522518, 1.07993039, 1.08535858,\n",
       "        0.94789768, 0.96048562, 1.05560397, 0.92057351, 0.95977788,\n",
       "        1.00899953, 1.10472216, 0.94133155, 0.83173746, 0.82558773,\n",
       "        0.88166659, 0.87693994, 0.98465783, 0.88790723, 0.93213698,\n",
       "        0.92551162, 0.95690536, 1.14139413, 1.06843478, 1.00161424,\n",
       "        0.95494395, 0.95760178, 1.03331765, 1.06015689, 0.91323526,\n",
       "        1.00365474, 0.81614605, 1.02139708, 1.07919449, 0.97238169,\n",
       "        1.19919764, 0.91564747, 1.02198217, 0.99642393, 0.99002036,\n",
       "        0.98863288, 1.01076807, 1.08849485, 1.14771571, 0.999775  ,\n",
       "        1.08494751, 0.93222909, 1.07960534, 0.92663165, 1.11523595,\n",
       "        1.24740337, 0.98786583, 0.80311742, 0.94666756, 1.1310965 ]))"
      ]
     },
     "execution_count": 13,
     "metadata": {},
     "output_type": "execute_result"
    }
   ],
   "source": [
    "##USE ABOVE FUNCTIONS/CODE BLOCKS\n",
    "\n",
    "materials_df = load_material_properties()\n",
    "material_properties = get_material_properties(materials_df, 'Polymer', 'Injection Molding')\n",
    "\n",
    "porosity, ws = run_monte_carlo_simulation(100, 1000000,material_properties, np.log(1))\n",
    "porosity, ws"
   ]
  },
  {
   "cell_type": "code",
   "execution_count": 14,
   "id": "f034aad9-7cd1-4e72-9597-d4d5456a539f",
   "metadata": {},
   "outputs": [
    {
     "name": "stdout",
     "output_type": "stream",
     "text": [
      "Porosity: 0.000428781158614649\n",
      "Reduced Fatigue Life (Cycles): 49912\n"
     ]
    }
   ],
   "source": [
    "expected_life = 1e6  # 1 million cycles without porosity\n",
    "reduced_life = calculate_reduced_life(porosity, ws, expected_life)\n",
    "print(\"Porosity:\", porosity)\n",
    "print(\"Reduced Fatigue Life (Cycles):\", reduced_life)"
   ]
  },
  {
   "cell_type": "code",
   "execution_count": 27,
   "id": "2a9edb78",
   "metadata": {},
   "outputs": [
    {
     "name": "stdout",
     "output_type": "stream",
     "text": [
      "V (mm^3): 100   Mean Pore Radii(mm): 0.1 \n",
      "    Porosity: 0.0003919668302879398\n",
      "    Fatigue Life (Cycles): 392589 \n",
      "\n",
      "V (mm^3): 100   Mean Pore Radii(mm): 0.2 \n",
      "    Porosity: 0.003707601934192492\n",
      "    Fatigue Life (Cycles): 243137 \n",
      "\n",
      "V (mm^3): 100   Mean Pore Radii(mm): 0.3 \n",
      "    Porosity: 0.011871833201398183\n",
      "    Fatigue Life (Cycles): 179491 \n",
      "\n",
      "V (mm^3): 100   Mean Pore Radii(mm): 0.4 \n",
      "    Porosity: 0.028881744367874683\n",
      "    Fatigue Life (Cycles): 132718 \n",
      "\n",
      "V (mm^3): 500   Mean Pore Radii(mm): 0.1 \n",
      "    Porosity: 9.245401963855798e-05\n",
      "    Fatigue Life (Cycles): 394347 \n",
      "\n",
      "V (mm^3): 500   Mean Pore Radii(mm): 0.2 \n",
      "    Porosity: 0.0006797601206136953\n",
      "    Fatigue Life (Cycles): 236893 \n",
      "\n",
      "V (mm^3): 500   Mean Pore Radii(mm): 0.3 \n",
      "    Porosity: 0.0023220710393309185\n",
      "    Fatigue Life (Cycles): 184518 \n",
      "\n",
      "V (mm^3): 500   Mean Pore Radii(mm): 0.4 \n",
      "    Porosity: 0.005165209967096702\n",
      "    Fatigue Life (Cycles): 149456 \n",
      "\n",
      "V (mm^3): 1000   Mean Pore Radii(mm): 0.1 \n",
      "    Porosity: 4.097516247352117e-05\n",
      "    Fatigue Life (Cycles): 404243 \n",
      "\n",
      "V (mm^3): 1000   Mean Pore Radii(mm): 0.2 \n",
      "    Porosity: 0.00028828851451489785\n",
      "    Fatigue Life (Cycles): 251161 \n",
      "\n",
      "V (mm^3): 1000   Mean Pore Radii(mm): 0.3 \n",
      "    Porosity: 0.0011026111137948447\n",
      "    Fatigue Life (Cycles): 178446 \n",
      "\n",
      "V (mm^3): 1000   Mean Pore Radii(mm): 0.4 \n",
      "    Porosity: 0.002734286006121613\n",
      "    Fatigue Life (Cycles): 138789 \n",
      "\n"
     ]
    },
    {
     "data": {
      "image/png": "[encoded data removed]",
      "text/plain": [
       "<Figure size 432x288 with 1 Axes>"
      ]
     },
     "metadata": {
      "needs_background": "light"
     },
     "output_type": "display_data"
    }
   ],
   "source": [
    "from numpy.random import default_rng\n",
    "rng = default_rng(42)\n",
    "#Simulating multiple volumes, keeping the number of pores the same\n",
    "for V in [100, 500, 1000]:\n",
    "    for a in [.1, .2,.3,.4]:\n",
    "        ws = rng.lognormal(mean = np.log(a), sigma = 0.1, size = 10)  #mean a determines the average size of the pore\n",
    "        plt.hist(ws)\n",
    "        #print(np.mean(ws), np.std(ws))\n",
    "        #print(np.sum(4/3*np.pi*ws**3)) #volume of all the pores\n",
    "        porosity = np.sum(4/3*np.pi*ws**3)/V\n",
    "        #print('porosity = ',np.sum(4/3*np.pi*ws**3)/V)  #porosity given by the ratio of pore volume to starting volume\n",
    "        reduced_life = calculate_reduced_life(porosity, ws, expected_life)\n",
    "        print('V (mm^3):', V, \"  Mean Pore Radii(mm):\",a, \"\\n    Porosity:\", porosity)\n",
    "        print(\"    Fatigue Life (Cycles):\", reduced_life, \"\\n\")"
   ]
  },
  {
   "cell_type": "markdown",
   "id": "b8f47b6b",
   "metadata": {},
   "source": [
    "# Monte Carlo Methods and Compliant Mechanism Fatigue Case Study\n",
    "\n",
    "\n",
    "\n",
    "## Introduction\n",
    "\n",
    "Compliant mechanisms, which gain at least some of their motion from the flexibility of their materials rather than from traditional joints, play a crucial role in modern engineering. These mechanisms are essential due to their ability to provide precise movements, reduce the number of parts, and eliminate the need for lubrication. Here's an example of some imortant real-world use cases for compliant mechanisms:\n",
    "\n",
    "1. **Medical Stents** - *Vascular Support*: Compliant mechanisms are used in stents to ensure they can be compressed for insertion and then expand to support blood vessels without invasive surgery.\n",
    "\n",
    "2. **Surgical Instruments** - *Sterility and Precision*: Designs incorporating compliant mechanisms in surgical tools minimize joint use, enhancing sterility and providing precise control during operations.\n",
    "\n",
    "3. **Advanced Vehicle Suspension Systems** - *Lightweight and Simplified Design*: Compliant mechanisms in automotive suspension systems provide a lightweight, less complex, and more durable alternative to traditional systems, improving vehicle performance.\n",
    "\n",
    "4. **Deployable Aerospace Structures** - *Reliable Deployment*: Essential for compact, reliable deployment of satellite components like antennas and solar panels in space, where traditional mechanisms might fail due to harsh conditions.\n",
    "\n",
    "5. **Soft Robotics** - *Adaptive and Safe Interaction*: In soft robotics, compliant mechanisms enable robots to adapt their shape and stiffness, allowing for safe interaction with humans and delicate objects in varied environments.\n",
    "\n",
    "These use cases highlight the integration of compliant mechanisms in various fields, demonstrating their importance in enhancing functionality, safety, and efficiency in modern technological applications. However, the material flexibility that allows these mechanisms to function also makes them susceptible to fatigue.\n",
    "\n",
    "Fatigue in compliant mechanisms occurs due to repetitive stress, leading to the initiation and propagation of cracks. Factors contributing to fatigue include load amplitude, frequency of loading, material properties, and environmental conditions. In compliant mechanisms, fatigue can result in reduced performance, unexpected failures, and ultimately, the breakdown of the system.\n",
    "\n",
    "Porosity, which refers to the presence of voids or pores within a material, significantly impacts fatigue life. Porous materials have stress concentrators that can initiate cracks, reducing the fatigue strength and lifespan of the component. Understanding the effect of porosity on fatigue life is crucial, especially for plastic compliant mechanisms commonly used in various applications.\n",
    "\n",
    "## Literature Review\n",
    "Current research on compliant mechanisms and fatigue highlights the significance of material properties and design factors. The University of Saskatchewan's thesis provides a comprehensive analysis of design strategies under fatigue strength control. It emphasizes the importance of optimizing material usage and geometric design to enhance fatigue life.\n",
    "\n",
    "Studies focusing on porosity and its effects on fatigue life reveal that voids within a material act as stress concentrators. These voids can significantly reduce the fatigue strength of plastics used in compliant mechanisms. Research from the provided arXiv paper supports these findings, showing that higher porosity levels correlate with decreased fatigue life. The paper also highlights the variability in pore sizes, which adds complexity to predicting fatigue behavior.\n",
    "\n",
    "\n",
    "## Case Study Methodology\n",
    "\n",
    "The computational framework for this study relies on design principles under fatigue strength control, as detailed in the University of Saskatchewan thesis. This framework incorporates Monte Carlo methods to simulate the impact of porosity on fatigue life. Monte Carlo simulations use random sampling to model the variability in pore sizes within the material. This is done by using a random number generator to make pore size values with a log-normal distribution based on an inputed mean pore radius size (mm). This log-normal distribution is an industry standard for investigating porosity (an example can be seen here: https://www.sciencedirect.com/science/article/abs/pii/0021979772902391#:~:text=Pore%2Dsize%20distributions%20of%20hardened,not%20by%20a%20minimum%20diameter. ). Intuitely, this makes sense since the effects that create pores (like gas entrapment, manufacturing speed and pressure, etc.) are interconnected and actually multiplicitive rather than additive in their relationship. Pores were assumed to be perfectly circular. \n",
    "\n",
    "For this study, I investigated polymers and injection molding. Injection molding typically results in a porosity level of about 0.1% to 1% due to trapped air and insufficient packing pressure during the cooling phase https://www.hubs.com/knowledge-base/3d-printed-injection-molds-materials-compared/, https://www.mdpi.com/2073-4360/16/6/831. Thus, a level of porosity of about 0.1%-1% was targeted by controling the number of pores in a given volume of the material. Due to lack of extensive optimization of these parameters when simulating fatigue life, this value was hard to hit consistently. A reference for pore size was found from https://www.ncbi.nlm.nih.gov/pmc/articles/PMC7372371/ for die cast metal parts. This value was then extrapoleted and used for esitmating the pore size for polymers. In the paper, the pore diameter ranges from ~2-18 um, thus ranges of 10, 20, 30, and 40 microns were used to extimate the pore radii for polymers. I estimated that the pore sizes in the polymer would be larger than in the metal by the given amount due to a lower surface tension, higher viscosity, and more trapped gasses.\n",
    "\n",
    "Fatigue life was simulated by using the Paris' Law equation for fatigue crack growth given input parameters and the simulated log-normal pore sizes. Some assumptions were made in the analysis of pore size and porosity on the fatigure life of flexures in compliant mechanisms, listed below.\n",
    "\n",
    "sigma_ut = 400\n",
    "sigma_e  = 200\n",
    "C        = 1e-12\n",
    "m        = 3.1\n",
    "sigma    = 100\n",
    "Y        = 1.12\n",
    "\n",
    "where sigma_ut is the ultimate tensile strength in MPa, sigma_e is the endurance limit in MPa, C is the Paris' law constant C, m is the Paris' law constant, sigma is the assumed nominal stress in MPa, anf Y is the geometric factor for an internal crack, approx. value.\n",
    "\n",
    "\n",
    "For crack propagation analysis, Paris' Law was employed:\n",
    "da/dN = C * (Delta K)^m\n",
    "Where C and m are material constants, and Delta K is the stress intensity factor range affected by porosity.\n",
    "\n",
    "To use the Paris equation to calculate the reduction in a material's life due to the presence of a pore, you first need to understand how the diameter of the pore influences the stress intensity factor range (Delta K), which is central to the Paris equation. The Paris equation is traditionally used to describe the rate of crack growth under cyclic loading and is expressed as:\n",
    "\n",
    "da/dN = C\\*(Delta K)^m\n",
    "\n",
    "where da/dN is the crack growth rate per cycle, C and m are material constants that need to be determined experimentally or taken from literature, and Delta K is the stress intensity factor range. The following steps were used to utilize the Paris' Law equation:\n",
    "\n",
    "1. **Determine the Stress Intensity Factor (Delta K)**:\n",
    "   - The stress intensity factor range, Delta K, can be affected by the presence of a pore, acting as a crack-like defect. The size of the pore can be used to approximate the initial crack size in calculations.\n",
    "   - A common approach to estimate Delta K for a circular pore acting like a crack under stress is:\n",
    "     Delta K = Y\\*sigma\\*sqrt(pi\\*a\n",
    "     Where Y is a geometric factor dependent on the shape of the crack and the loading conditions (commonly ranges from 1.0 to 1.12 for internal cracks), sigma is the applied or nominal stress, and a is the half-length of the crack\n",
    "\n",
    "2. **Calculate the Crack Growth Rate (da/dN)**:\n",
    "   - Using the determined Delta K, plug it into the Paris equation to get the crack growth rate.\n",
    "\n",
    "3. **Increment the Crack by a Step Determined by the Growth Rate**:\n",
    "   - To find the total lifetime or the number of cycles to failure, I used the Paris' Law Equation to find da/dN. Assuming dN can be approximated as Delta N (1, in this case), the Delta a value is used to \"grow\" the crack length.\n",
    "   - This new crack length is used to find an updated Delta K\n",
    "   - The process repeats\n",
    "\n",
    "This process provides an estimate of how a single pore can impact the fatigue life of a material through accelerated crack growth. For accurate predictions, detailed material testing and finite element analysis might be necessary, especially to adjust for material-specific behaviors and complex loading conditions.\n",
    "\n",
    "\n",
    "\n",
    "## Results and Discussion\n",
    "The simulation results indicate significant variability in fatigue life due to porosity, with the Paris' Law showing particularly sensitive dependence due to its exponential nature. The full simulated findings are as follows:\n",
    "\n",
    "V (mm^3): 100   Mean Pore Radii(mm): 0.1 \n",
    "    Porosity: 0.0003919668302879398\n",
    "    Fatigue Life (Cycles): 392589 \n",
    "\n",
    "V (mm^3): 100   Mean Pore Radii(mm): 0.2 \n",
    "    Porosity: 0.003707601934192492\n",
    "    Fatigue Life (Cycles): 243137 \n",
    "\n",
    "V (mm^3): 100   Mean Pore Radii(mm): 0.3 \n",
    "    Porosity: 0.011871833201398183\n",
    "    Fatigue Life (Cycles): 179491 \n",
    "\n",
    "V (mm^3): 100   Mean Pore Radii(mm): 0.4 \n",
    "    Porosity: 0.028881744367874683\n",
    "    Fatigue Life (Cycles): 132718 \n",
    "\n",
    "V (mm^3): 500   Mean Pore Radii(mm): 0.1 \n",
    "    Porosity: 9.245401963855798e-05\n",
    "    Fatigue Life (Cycles): 394347 \n",
    "\n",
    "V (mm^3): 500   Mean Pore Radii(mm): 0.2 \n",
    "    Porosity: 0.0006797601206136953\n",
    "    Fatigue Life (Cycles): 236893 \n",
    "\n",
    "V (mm^3): 500   Mean Pore Radii(mm): 0.3 \n",
    "    Porosity: 0.0023220710393309185\n",
    "    Fatigue Life (Cycles): 184518 \n",
    "\n",
    "V (mm^3): 500   Mean Pore Radii(mm): 0.4 \n",
    "    Porosity: 0.005165209967096702\n",
    "    Fatigue Life (Cycles): 149456 \n",
    "\n",
    "V (mm^3): 1000   Mean Pore Radii(mm): 0.1 \n",
    "    Porosity: 4.097516247352117e-05\n",
    "    Fatigue Life (Cycles): 404243 \n",
    "\n",
    "V (mm^3): 1000   Mean Pore Radii(mm): 0.2 \n",
    "    Porosity: 0.00028828851451489785\n",
    "    Fatigue Life (Cycles): 251161 \n",
    "\n",
    "V (mm^3): 1000   Mean Pore Radii(mm): 0.3 \n",
    "    Porosity: 0.0011026111137948447\n",
    "    Fatigue Life (Cycles): 178446 \n",
    "\n",
    "V (mm^3): 1000   Mean Pore Radii(mm): 0.4 \n",
    "    Porosity: 0.002734286006121613\n",
    "    Fatigue Life (Cycles): 138789\n",
    "\n",
    "    \n",
    "In the above results, the fatigue life is shown for different simulated combinations of pore radii and porosity (controlled by the volume). Each trial had a sample size of 10 pores. These results highlight the critical impact of manufacturing methods and material porosity on the fatigue life of compliant mechanisms. Specifically, it can be seen that the largest factor is the radii size. When compating the 2.89% porosity of the 100mm^3 volume and 0.4mm pore average radius to the 0.273% porosity of the 1000 mm^3  and 0.4mm pore average radius, it can be seen that the fatigue life is comparable at 132718 vs. 138789 for the 100mm^3 and 1000mm^3 trials respectivly. This shows that when using the Paris' Law Equation, the single larges factor when predicting fatige life is not the porosity, but rather the average starting crack lenght (determined by the pore size). Thus, when trying to extend the fatigue life of a part that's being injection molded with a polymer, based on this model, it's more important to reduce the average pore size due to the manufacturing method than it is to decrease the overall porosity. This is a significant finding and can lead engineers to select the right manufacturing method when dealing with complant mechanism design and fabrication.\n",
    "\n",
    "\n",
    "# Conclusion\n",
    "The key findings of this study underscore the importance of considering porosity in the design and manufacturing of compliant mechanisms. The findings from the Monte Carlo simulations reveal that manufacturing methods significantly affect the fatigue life of compliant mechanisms. The fatigue life of materials with comparable pore sizes but different porosity levels—132,718 cycles at 2.89% porosity and 138,789 cycles at 0.273% porosity—demonstrates that average pore size is a more critical factor in predicting fatigue life than overall porosity. This suggests that focusing on reducing average pore size is more effective for enhancing fatigue life in injection-molded polymers than merely lowering porosity, a crucial consideration for engineers in compliant mechanism design.\n",
    "\n",
    "Injection molding, for instance, shows a lower probability of large pores but higher overall porosity, leading to moderate fatigue life. In contrast, 3D printing methods like FDM and LPDF exhibit varied pore sizes, resulting in a wider range of fatigue life predictions.\n",
    "\n",
    "The results indicate that porosity introduces a high degree of variability in fatigue performance. Traditional methods, such as empirical or handbook methods (e.g., Howell 2001, Shigley 2011), provide baseline fatigue predictions but do not account for the complex effects of porosity. The Monte Carlo approach offers a more nuanced understanding, highlighting the benefits of probabilistic modeling in fatigue analysis.\n",
    "\n",
    "The implications for the design and use of compliant mechanisms are significant. Engineers must account for porosity effects to enhance reliability and performance. Future research should focus on refining computational models and exploring other factors influencing fatigue life, such as material anisotropy and environmental conditions.\n",
    "\n",
    "\n",
    "# Additional references used not explicitly listed in Report:\n",
    "\n",
    "https://harvest.usask.ca/server/api/core/bitstreams/44901a64-c375-44f0-8763-37d09069a8f9/content https://read.nxtbook.com/wiley/plasticsengineering/julyaugust2015/consultantscorner.html \n",
    "https://arxiv.org/abs/2308.10858\n",
    "\n",
    "Handbook of Compliant Mechanicsms, Howell 2001\n",
    "Shigley's Mechanical Engineering Design, Shigley 2011"
   ]
  },
  {
   "cell_type": "markdown",
   "id": "956a533c",
   "metadata": {},
   "source": []
  },
  {
   "cell_type": "code",
   "execution_count": null,
   "id": "37f006df",
   "metadata": {},
   "outputs": [],
   "source": []
  }
 ],
 "metadata": {
  "kernelspec": {
   "display_name": "Python 3 (ipykernel)",
   "language": "python",
   "name": "python3"
  },
  "language_info": {
   "codemirror_mode": {
    "name": "ipython",
    "version": 3
   },
   "file_extension": ".py",
   "mimetype": "text/x-python",
   "name": "python",
   "nbconvert_exporter": "python",
   "pygments_lexer": "ipython3",
   "version": "3.9.6"
  }
 },
 "nbformat": 4,
 "nbformat_minor": 5
}
