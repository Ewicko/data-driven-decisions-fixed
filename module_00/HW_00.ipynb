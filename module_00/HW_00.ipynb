{
 "cells": [
  {
   "cell_type": "code",
   "execution_count": 1,
   "id": "6840e790",
   "metadata": {},
   "outputs": [],
   "source": [
    "import numpy as np\n",
    "import matplotlib.pyplot as plt\n",
    "plt.style.use('fivethirtyeight')\n",
    "import pandas as pd"
   ]
  },
  {
   "cell_type": "markdown",
   "id": "2148a32a",
   "metadata": {},
   "source": [
    "# HW_00 - Generative AI writing analysis\n",
    "\n",
    "In this assignment, you will generate instructions on brushing your teeth. You can use [ChatGPT](https://chatgpt.com/)\n",
    "\n",
    "Some metrics to add to the generated instructions:\n",
    "\n",
    "- number of strokes per minute\n",
    "- total brushing time\n",
    "- time spent per tooth \n",
    "- number of teeth or total area to brush on teeth\n",
    "- deflection of brush bristles for proper cleaning\n",
    "- what else can you think of?"
   ]
  },
  {
   "cell_type": "markdown",
   "id": "c3825564",
   "metadata": {},
   "source": [
    "## Prompt Input and Output\n",
    "\n",
    "-> _copy-paste your prompts and outputs here_\n",
    "\n",
    "\n",
    "Prompt: Can you help me create instructions on how to brush my teeth? I'm looking for instruction on number of strokes per minute, total brushing time, time spent per tooth, number of teeth or total area to brush on teeth, deflection of brush bristles for proper cleaning, and rinsing technique.\n",
    "\n",
    "Output: Certainly! Here's a detailed guide on how to brush your teeth effectively:\n",
    "\n",
    "**Brushing Instructions Preparation**\n",
    "\n",
    "**Wet Your Toothbrush:** Start by wetting your toothbrush with water to soften the bristles. \n",
    "\n",
    "**Apply Toothpaste:** Squeeze a pea-sized amount of fluoride toothpaste onto the bristles. \n",
    "\n",
    "**Brushing Technique**\n",
    "\n",
    "**Angle and Positioning:** Hold the toothbrush at a 45-degree angle to your gums. \n",
    "\n",
    "**Strokes per Minute:** Aim for 300-400 gentle strokes per minute. This translates to a moderate, controlled pace. \n",
    "\n",
    "**Total Brushing Time**\n",
    "\n",
    "**Duration:** Brush your teeth for a total of 2 minutes. You can use a timer or an electric toothbrush with a built-in timer for accuracy. \n",
    "\n",
    "**Time Spent per Tooth**\n",
    "\n",
    "**Focus Areas:** Divide your mouth into four quadrants (upper right, upper left, lower right, lower left). Spend 30 seconds on each quadrant. \n",
    "\n",
    "**Individual Teeth:** Focus on each tooth, spending approximately 2-3 seconds per tooth, including the front, back, and chewing surfaces. \n",
    "\n",
    "**Total Area to Brush**\n",
    "\n",
    "Number of Teeth: An adult typically has 28 teeth (excluding wisdom teeth). Ensure you brush all surfaces of each tooth.\n",
    "\n",
    "Surfaces: Brush the outer surfaces, inner surfaces, and chewing surfaces of all your teeth. Don't forget the back molars.\n",
    "\n",
    "Deflection of Brush Bristles\n",
    "\n",
    "Pressure: Apply gentle pressure so that the bristles bend slightly. Over-pressing can cause gum damage and ineffective cleaning.\n",
    "\n",
    "Brushing Motion\n",
    "\n",
    "Small Circular Motions: Use small circular motions, especially along the gum line, to effectively remove plaque and food particles.\n",
    "\n",
    "Sweeping Strokes: On the chewing surfaces, use short back-and-forth strokes.\n",
    "\n",
    "Rinsing Technique\n",
    "\n",
    "Rinse Mouth: After brushing, thoroughly rinse your mouth with water to remove any remaining toothpaste and debris.\n",
    "\n",
    "Rinse Toothbrush: Rinse your toothbrush under running water to clean off any toothpaste and debris. Store it upright to air dry.\n",
    "\n",
    "Additional Tips\n",
    "\n",
    "Replace Toothbrush: Replace your toothbrush every 3-4 months, or sooner if the bristles are frayed.\n",
    "\n",
    "Use Mouthwash: Consider using an antimicrobial mouthwash after brushing for additional oral hygiene benefits.\n",
    "\n",
    "Floss Daily: Floss once a day to remove plaque and food particles between teeth where a toothbrush can't reach.\n",
    "\n",
    "By following these instructions, you can maintain good oral hygiene and ensure your teeth are clean and healthy.\n"
   ]
  },
  {
   "cell_type": "markdown",
   "id": "64f3d3ea",
   "metadata": {},
   "source": [
    "## Revised document\n",
    "\n",
    "-> _copy-paste the document here, then edit the output to remove passive phrasing and add specific ideas from your own research or experience (try quantifying any phrases such as 'many', 'fewer', 'more important', etc._"
   ]
  },
  {
   "cell_type": "markdown",
   "id": "ad473b69",
   "metadata": {},
   "source": [
    "## Document analysis\n",
    "\n",
    "- Make a list of all the improvements and changes you made to document\n",
    "- use the `tf_idf.cosineSimilarity` function to compare the AI version to your own\n",
    "\n",
    "Write a report on your intellectual property  in the 'revised document'. \n",
    "- How much can you claim as yours?\n",
    "- How many ideas came from AI?\n",
    "- How many ideas came from you?\n",
    "- Is this a _new_ document?\n",
    "- If this work was made by you and another person-not AI-would you need to credit this person as a coauthor?\n",
    "- What else can you discuss about this comparison and this process?\n",
    "\n",
    "_run the cell below to get your `tf_idf` functions ready to run_"
   ]
  },
  {
   "cell_type": "code",
   "execution_count": 2,
   "id": "07dd45b3",
   "metadata": {},
   "outputs": [
    {
     "name": "stdout",
     "output_type": "stream",
     "text": [
      "Requirement already satisfied: tf-idf-cosimm==0.0.2 in /opt/conda/lib/python3.9/site-packages (0.0.2)\n",
      "Requirement already satisfied: pandas in /opt/conda/lib/python3.9/site-packages (from tf-idf-cosimm==0.0.2) (1.3.2)\n",
      "Requirement already satisfied: scikit-learn in /opt/conda/lib/python3.9/site-packages (from tf-idf-cosimm==0.0.2) (0.24.2)\n",
      "Requirement already satisfied: nltk in /opt/conda/lib/python3.9/site-packages (from tf-idf-cosimm==0.0.2) (3.8.1)\n",
      "Requirement already satisfied: numpy in /opt/conda/lib/python3.9/site-packages (from tf-idf-cosimm==0.0.2) (1.20.3)\n",
      "Requirement already satisfied: click in /opt/conda/lib/python3.9/site-packages (from nltk->tf-idf-cosimm==0.0.2) (8.0.1)\n",
      "Requirement already satisfied: regex>=2021.8.3 in /opt/conda/lib/python3.9/site-packages (from nltk->tf-idf-cosimm==0.0.2) (2024.5.15)\n",
      "Requirement already satisfied: tqdm in /opt/conda/lib/python3.9/site-packages (from nltk->tf-idf-cosimm==0.0.2) (4.62.2)\n",
      "Requirement already satisfied: joblib in /opt/conda/lib/python3.9/site-packages (from nltk->tf-idf-cosimm==0.0.2) (1.0.1)\n",
      "Requirement already satisfied: python-dateutil>=2.7.3 in /opt/conda/lib/python3.9/site-packages (from pandas->tf-idf-cosimm==0.0.2) (2.8.2)\n",
      "Requirement already satisfied: pytz>=2017.3 in /opt/conda/lib/python3.9/site-packages (from pandas->tf-idf-cosimm==0.0.2) (2021.1)\n",
      "Requirement already satisfied: six>=1.5 in /opt/conda/lib/python3.9/site-packages (from python-dateutil>=2.7.3->pandas->tf-idf-cosimm==0.0.2) (1.16.0)\n",
      "Requirement already satisfied: threadpoolctl>=2.0.0 in /opt/conda/lib/python3.9/site-packages (from scikit-learn->tf-idf-cosimm==0.0.2) (2.2.0)\n",
      "Requirement already satisfied: scipy>=0.19.1 in /opt/conda/lib/python3.9/site-packages (from scikit-learn->tf-idf-cosimm==0.0.2) (1.7.1)\n"
     ]
    }
   ],
   "source": [
    "! pip install tf-idf-cosimm==0.0.2"
   ]
  },
  {
   "cell_type": "code",
   "execution_count": 3,
   "id": "a87cd6c7-5db8-43fc-a63b-c3d9fcb4a531",
   "metadata": {},
   "outputs": [
    {
     "name": "stderr",
     "output_type": "stream",
     "text": [
      "[nltk_data] Downloading package punkt to /home/jovyan/nltk_data...\n",
      "[nltk_data]   Package punkt is already up-to-date!\n"
     ]
    }
   ],
   "source": [
    "import tf_idf.core as tf_idf"
   ]
  },
  {
   "cell_type": "code",
   "execution_count": 4,
   "id": "a12beb9f-aee7-4e7a-962a-0c5bf22f32b3",
   "metadata": {},
   "outputs": [],
   "source": [
    "AI = '''text from chatGPT'''\n",
    "compare = tf_idf.preprocess_text(AI)"
   ]
  },
  {
   "cell_type": "code",
   "execution_count": 5,
   "id": "bf6f7dc1-3da0-4251-b5a3-a12121939d3b",
   "metadata": {},
   "outputs": [
    {
     "data": {
      "text/html": [
       "<div>\n",
       "<style scoped>\n",
       "    .dataframe tbody tr th:only-of-type {\n",
       "        vertical-align: middle;\n",
       "    }\n",
       "\n",
       "    .dataframe tbody tr th {\n",
       "        vertical-align: top;\n",
       "    }\n",
       "\n",
       "    .dataframe thead th {\n",
       "        text-align: right;\n",
       "    }\n",
       "</style>\n",
       "<table border=\"1\" class=\"dataframe\">\n",
       "  <thead>\n",
       "    <tr style=\"text-align: right;\">\n",
       "      <th></th>\n",
       "      <th>DOCUMENT</th>\n",
       "      <th>LOWERCASE</th>\n",
       "      <th>CLEANING</th>\n",
       "      <th>TOKENIZATION</th>\n",
       "      <th>STOP-WORDS</th>\n",
       "      <th>STEMMING</th>\n",
       "    </tr>\n",
       "  </thead>\n",
       "  <tbody>\n",
       "    <tr>\n",
       "      <th>0</th>\n",
       "      <td>text from chatGPT</td>\n",
       "      <td>text from chatgpt</td>\n",
       "      <td>text from chatgpt</td>\n",
       "      <td>[text, from, chatgpt]</td>\n",
       "      <td>[text, chatgpt]</td>\n",
       "      <td>[text, chatgpt]</td>\n",
       "    </tr>\n",
       "    <tr>\n",
       "      <th>1</th>\n",
       "      <td>my edited text</td>\n",
       "      <td>my edited text</td>\n",
       "      <td>my edited text</td>\n",
       "      <td>[my, edited, text]</td>\n",
       "      <td>[edited, text]</td>\n",
       "      <td>[edit, text]</td>\n",
       "    </tr>\n",
       "  </tbody>\n",
       "</table>\n",
       "</div>"
      ],
      "text/plain": [
       "            DOCUMENT          LOWERCASE           CLEANING  \\\n",
       "0  text from chatGPT  text from chatgpt  text from chatgpt   \n",
       "1     my edited text     my edited text     my edited text   \n",
       "\n",
       "            TOKENIZATION       STOP-WORDS         STEMMING  \n",
       "0  [text, from, chatgpt]  [text, chatgpt]  [text, chatgpt]  \n",
       "1     [my, edited, text]   [edited, text]     [edit, text]  "
      ]
     },
     "execution_count": 5,
     "metadata": {},
     "output_type": "execute_result"
    }
   ],
   "source": [
    "ME = '''my edited text'''\n",
    "compare = pd.concat([compare, tf_idf.preprocess_text(ME)], \n",
    "                    ignore_index=True)\n",
    "compare"
   ]
  },
  {
   "cell_type": "code",
   "execution_count": 6,
   "id": "4b7f89e7-4272-472a-8f81-cbb5884207e7",
   "metadata": {},
   "outputs": [
    {
     "data": {
      "text/html": [
       "<div>\n",
       "<style scoped>\n",
       "    .dataframe tbody tr th:only-of-type {\n",
       "        vertical-align: middle;\n",
       "    }\n",
       "\n",
       "    .dataframe tbody tr th {\n",
       "        vertical-align: top;\n",
       "    }\n",
       "\n",
       "    .dataframe thead th {\n",
       "        text-align: right;\n",
       "    }\n",
       "</style>\n",
       "<table border=\"1\" class=\"dataframe\">\n",
       "  <thead>\n",
       "    <tr style=\"text-align: right;\">\n",
       "      <th></th>\n",
       "      <th>DOCUMENT</th>\n",
       "      <th>STEMMING</th>\n",
       "      <th>COSIM</th>\n",
       "    </tr>\n",
       "  </thead>\n",
       "  <tbody>\n",
       "    <tr>\n",
       "      <th>0</th>\n",
       "      <td>text from chatGPT</td>\n",
       "      <td>[text, chatgpt]</td>\n",
       "      <td>1.000000</td>\n",
       "    </tr>\n",
       "    <tr>\n",
       "      <th>1</th>\n",
       "      <td>my edited text</td>\n",
       "      <td>[edit, text]</td>\n",
       "      <td>0.336097</td>\n",
       "    </tr>\n",
       "  </tbody>\n",
       "</table>\n",
       "</div>"
      ],
      "text/plain": [
       "            DOCUMENT         STEMMING     COSIM\n",
       "0  text from chatGPT  [text, chatgpt]  1.000000\n",
       "1     my edited text     [edit, text]  0.336097"
      ]
     },
     "execution_count": 6,
     "metadata": {},
     "output_type": "execute_result"
    }
   ],
   "source": [
    "tf_idf.cosineSimilarity(compare)"
   ]
  },
  {
   "cell_type": "code",
   "execution_count": null,
   "id": "1d6d74a1-a120-42a1-b2fb-73c69011c3de",
   "metadata": {},
   "outputs": [],
   "source": []
  }
 ],
 "metadata": {
  "jupytext": {
   "formats": "md:myst,ipynb"
  },
  "kernelspec": {
   "display_name": "Python 3 (ipykernel)",
   "language": "python",
   "name": "python3"
  },
  "language_info": {
   "codemirror_mode": {
    "name": "ipython",
    "version": 3
   },
   "file_extension": ".py",
   "mimetype": "text/x-python",
   "name": "python",
   "nbconvert_exporter": "python",
   "pygments_lexer": "ipython3",
   "version": "3.9.6"
  }
 },
 "nbformat": 4,
 "nbformat_minor": 5
}
